{
 "cells": [
  {
   "cell_type": "markdown",
   "metadata": {},
   "source": [
    "# Calculation of Lift for Balloon"
   ]
  },
  {
   "cell_type": "markdown",
   "metadata": {},
   "source": [
    "## Volume of Sphere\n",
    "$$\n",
    "V = \\frac{4}{3} \\pi r^{3}\n",
    "$$\n",
    "\n",
    "## Surface Area of Sphere\n",
    "$$\n",
    "A = 4 \\pi r^{2}\n",
    "$$"
   ]
  },
  {
   "cell_type": "code",
   "execution_count": 10,
   "metadata": {
    "collapsed": false
   },
   "outputs": [],
   "source": [
    "%matplotlib inline\n",
    "import numpy as np\n",
    "import matplotlib.pyplot as plt\n",
    "import math\n",
    "import pint # Enables the use of units\n",
    "%config InteractiveShell.ast_node_interactivity='last_expr_or_assign' # Print out results of calculations"
   ]
  },
  {
   "cell_type": "code",
   "execution_count": 11,
   "metadata": {
    "collapsed": false
   },
   "outputs": [
    {
     "data": {
      "text/plain": [
       "<pint.registry.UnitRegistry at 0x7f1a484ca2b0>"
      ]
     },
     "execution_count": 11,
     "metadata": {},
     "output_type": "execute_result"
    }
   ],
   "source": [
    "ureg = pint.UnitRegistry()"
   ]
  },
  {
   "cell_type": "code",
   "execution_count": 12,
   "metadata": {
    "collapsed": false
   },
   "outputs": [],
   "source": [
    "def volume_of_sphere(r):\n",
    "    return (4.0 / 3.0) * math.pi * r**3\n",
    "\n",
    "def surface_area_of_sphere(r):\n",
    "    return 4.0 * math.pi * r**2"
   ]
  },
  {
   "cell_type": "code",
   "execution_count": 31,
   "metadata": {
    "collapsed": true
   },
   "outputs": [
    {
     "name": "stdout",
     "output_type": "stream",
     "text": [
      "calculatedVolumeOfSphere: 4188.790204786391\n"
     ]
    }
   ],
   "source": [
    "volumeOfUnitSphere = 4188.79\n",
    "radius = 10.0\n",
    "calculatedVolumeOfSphere = volume_of_sphere(radius)\n",
    "print(\"calculatedVolumeOfSphere: \" + str(calculatedVolumeOfSphere))"
   ]
  },
  {
   "cell_type": "markdown",
   "metadata": {},
   "source": [
    "## Caluculation of balloon volume and surface area\n",
    "The weight the balloon can lift is the difference between the weight of the air it displaces and the weight of the helium"
   ]
  },
  {
   "cell_type": "code",
   "execution_count": 33,
   "metadata": {
    "collapsed": true
   },
   "outputs": [
    {
     "data": {
      "text/html": [
       "4.1887902047863905 meter<sup>3</sup>"
      ],
      "text/latex": [
       "$4.1887902047863905\\ \\mathrm{meter}^{3}$"
      ],
      "text/plain": [
       "<Quantity(4.1887902047863905, 'meter ** 3')>"
      ]
     },
     "execution_count": 33,
     "metadata": {},
     "output_type": "execute_result"
    }
   ],
   "source": [
    "diameter_of_balloon = 2 * ureg.meter\n",
    "radius_of_balloon = diameter_of_balloon/2\n",
    "volume_of_balloon = volume_of_sphere(diameter_of_balloon/2)"
   ]
  },
  {
   "cell_type": "code",
   "execution_count": 36,
   "metadata": {
    "collapsed": true
   },
   "outputs": [
    {
     "data": {
      "text/html": [
       "12.566370614359172 meter<sup>2</sup>"
      ],
      "text/latex": [
       "$12.566370614359172\\ \\mathrm{meter}^{2}$"
      ],
      "text/plain": [
       "<Quantity(12.566370614359172, 'meter ** 2')>"
      ]
     },
     "execution_count": 36,
     "metadata": {},
     "output_type": "execute_result"
    }
   ],
   "source": [
    "surface_area_of_balloon = surface_area_of_sphere(radius_of_balloon)"
   ]
  },
  {
   "cell_type": "markdown",
   "metadata": {},
   "source": [
    "https://en.wikipedia.org/wiki/Density_of_air"
   ]
  },
  {
   "cell_type": "code",
   "execution_count": 38,
   "metadata": {},
   "outputs": [
    {
     "data": {
      "text/html": [
       "1.225 kilogram/meter<sup>3</sup>"
      ],
      "text/latex": [
       "$1.225\\ \\frac{\\mathrm{kilogram}}{\\mathrm{meter}^{3}}$"
      ],
      "text/plain": [
       "<Quantity(1.225, 'kilogram / meter ** 3')>"
      ]
     },
     "execution_count": 38,
     "metadata": {},
     "output_type": "execute_result"
    }
   ],
   "source": [
    "density_of_air = 1.225 * ureg.kilogram / ureg.meter**3"
   ]
  },
  {
   "cell_type": "code",
   "execution_count": 45,
   "metadata": {},
   "outputs": [
    {
     "data": {
      "text/html": [
       "0.1786 kilogram/meter<sup>3</sup>"
      ],
      "text/latex": [
       "$0.1786\\ \\frac{\\mathrm{kilogram}}{\\mathrm{meter}^{3}}$"
      ],
      "text/plain": [
       "<Quantity(0.1786, 'kilogram / meter ** 3')>"
      ]
     },
     "execution_count": 45,
     "metadata": {},
     "output_type": "execute_result"
    }
   ],
   "source": [
    "density_of_helium = 0.1786 * ureg.kilogram / ureg.meter**3"
   ]
  },
  {
   "cell_type": "code",
   "execution_count": 40,
   "metadata": {},
   "outputs": [
    {
     "data": {
      "text/html": [
       "5.1312680008633285 kilogram"
      ],
      "text/latex": [
       "$5.1312680008633285\\ \\mathrm{kilogram}$"
      ],
      "text/plain": [
       "<Quantity(5.1312680008633285, 'kilogram')>"
      ]
     },
     "execution_count": 40,
     "metadata": {},
     "output_type": "execute_result"
    }
   ],
   "source": [
    "weight_of_air = density_of_air * volume_of_balloon"
   ]
  },
  {
   "cell_type": "code",
   "execution_count": 46,
   "metadata": {},
   "outputs": [
    {
     "data": {
      "text/html": [
       "0.7481179305748494 kilogram"
      ],
      "text/latex": [
       "$0.7481179305748494\\ \\mathrm{kilogram}$"
      ],
      "text/plain": [
       "<Quantity(0.7481179305748494, 'kilogram')>"
      ]
     },
     "execution_count": 46,
     "metadata": {},
     "output_type": "execute_result"
    }
   ],
   "source": [
    "weight_of_helium = density_of_helium * volume_of_balloon"
   ]
  },
  {
   "cell_type": "code",
   "execution_count": 84,
   "metadata": {},
   "outputs": [
    {
     "data": {
      "text/html": [
       "4.383150070288479 kilogram"
      ],
      "text/latex": [
       "$4.383150070288479\\ \\mathrm{kilogram}$"
      ],
      "text/plain": [
       "<Quantity(4.383150070288479, 'kilogram')>"
      ]
     },
     "execution_count": 84,
     "metadata": {},
     "output_type": "execute_result"
    }
   ],
   "source": [
    "lift_for_2m_balloon = weight_of_air - weight_of_helium"
   ]
  },
  {
   "cell_type": "markdown",
   "metadata": {},
   "source": [
    "# Results\n",
    "4.38 Kg of lift for a 2meter balloon"
   ]
  },
  {
   "cell_type": "code",
   "execution_count": 7,
   "metadata": {},
   "outputs": [],
   "source": [
    "def lift_based_on_diameter(d):\n",
    "    radius = d/2\n",
    "    volume = volume_of_sphere(radius)\n",
    "    lift_by_volume = density_of_air - density_of_helium\n",
    "    return volume * lift_by_volume"
   ]
  },
  {
   "cell_type": "code",
   "execution_count": 8,
   "metadata": {},
   "outputs": [
    {
     "ename": "NameError",
     "evalue": "name 'ureg' is not defined",
     "output_type": "error",
     "traceback": [
      "\u001b[0;31m---------------------------------------------------------------------------\u001b[0m",
      "\u001b[0;31mNameError\u001b[0m                                 Traceback (most recent call last)",
      "\u001b[0;32m<ipython-input-8-0a87d6a64409>\u001b[0m in \u001b[0;36m<module>\u001b[0;34m\u001b[0m\n\u001b[0;32m----> 1\u001b[0;31m \u001b[0mtwo_meter_diameter\u001b[0m \u001b[0;34m=\u001b[0m \u001b[0mlift_based_on_diameter\u001b[0m\u001b[0;34m(\u001b[0m\u001b[0;36m2\u001b[0m \u001b[0;34m*\u001b[0m \u001b[0mureg\u001b[0m\u001b[0;34m.\u001b[0m\u001b[0mmeters\u001b[0m\u001b[0;34m)\u001b[0m\u001b[0;34m\u001b[0m\u001b[0;34m\u001b[0m\u001b[0m\n\u001b[0m",
      "\u001b[0;31mNameError\u001b[0m: name 'ureg' is not defined"
     ]
    }
   ],
   "source": [
    "two_meter_diameter = lift_based_on_diameter(2 * ureg.meters)"
   ]
  },
  {
   "cell_type": "code",
   "execution_count": 9,
   "metadata": {},
   "outputs": [
    {
     "ename": "NameError",
     "evalue": "name 'ureg' is not defined",
     "output_type": "error",
     "traceback": [
      "\u001b[0;31m---------------------------------------------------------------------------\u001b[0m",
      "\u001b[0;31mNameError\u001b[0m                                 Traceback (most recent call last)",
      "\u001b[0;32m<ipython-input-9-4e7a8a98c156>\u001b[0m in \u001b[0;36m<module>\u001b[0;34m\u001b[0m\n\u001b[0;32m----> 1\u001b[0;31m \u001b[0mmega_formula\u001b[0m \u001b[0;34m=\u001b[0m \u001b[0mlift_based_on_diameter\u001b[0m\u001b[0;34m(\u001b[0m\u001b[0;36m1\u001b[0m \u001b[0;34m*\u001b[0m \u001b[0mureg\u001b[0m\u001b[0;34m.\u001b[0m\u001b[0mmeters\u001b[0m\u001b[0;34m)\u001b[0m\u001b[0;34m\u001b[0m\u001b[0;34m\u001b[0m\u001b[0m\n\u001b[0m",
      "\u001b[0;31mNameError\u001b[0m: name 'ureg' is not defined"
     ]
    }
   ],
   "source": [
    "mega_formula = lift_based_on_diameter(1 * ureg.meters)"
   ]
  },
  {
   "cell_type": "code",
   "execution_count": 105,
   "metadata": {
    "collapsed": false
   },
   "outputs": [
    {
     "data": {
      "text/plain": [
       "Text(0, 0.5, 'Lift in Kilograms')"
      ]
     },
     "execution_count": 105,
     "metadata": {},
     "output_type": "execute_result"
    },
    {
     "data": {
      "image/png": "[encoded data removed]",
      "text/plain": [
       "<Figure size 432x288 with 1 Axes>"
      ]
     },
     "metadata": {
      "needs_background": "light"
     },
     "output_type": "display_data"
    }
   ],
   "source": [
    "x = np.linspace(0,2.4,10)\n",
    "y = [lift_based_on_diameter(i).magnitude for i in x]\n",
    "plt.plot(x, y, lw=2)\n",
    "#plt.axis([1, 3])\n",
    "plt.title(\"Lift as a function of Diamter\")\n",
    "plt.xlabel(\"Diameter in Meters\")\n",
    "plt.ylabel(\"Lift in Kilograms\")"
   ]
  },
  {
   "cell_type": "code",
   "execution_count": null,
   "metadata": {},
   "outputs": [],
   "source": []
  }
 ],
 "metadata": {
  "kernelspec": {
   "display_name": "Python 3",
   "language": "python",
   "name": "python3"
  },
  "language_info": {
   "codemirror_mode": {
    "name": "ipython",
    "version": 3
   },
   "file_extension": ".py",
   "mimetype": "text/x-python",
   "name": "python",
   "nbconvert_exporter": "python",
   "pygments_lexer": "ipython3",
   "version": "3.7.1"
  }
 },
 "nbformat": 4,
 "nbformat_minor": 2
}
